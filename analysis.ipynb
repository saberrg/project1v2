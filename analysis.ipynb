{
 "cells": [
  {
   "cell_type": "code",
   "execution_count": 7,
   "metadata": {},
   "outputs": [],
   "source": [
    "import pandas as pd\n",
    "file_path = 'Resources/2022.csv'"
   ]
  },
  {
   "cell_type": "code",
   "execution_count": null,
   "metadata": {},
   "outputs": [],
   "source": []
  },
  {
   "cell_type": "code",
   "execution_count": 8,
   "metadata": {},
   "outputs": [
    {
     "name": "stdout",
     "output_type": "stream",
     "text": [
      "8.0     14787\n",
      "6.0     14679\n",
      "12.0    14321\n",
      "4.0     13916\n",
      "11.0    13437\n",
      "1.0     13031\n",
      "18.0    12412\n",
      "19.0    12211\n",
      "25.0    11939\n",
      "3.0     11933\n",
      "2.0     11773\n",
      "9.0     10361\n",
      "7.0     10313\n",
      "10.0     9952\n",
      "5.0      9760\n",
      "16.0     9208\n",
      "24.0     8454\n",
      "15.0     8295\n",
      "14.0     8141\n",
      "22.0     7663\n",
      "17.0     6979\n",
      "20.0     4951\n",
      "31.0       15\n",
      "Name: District, dtype: int64\n"
     ]
    }
   ],
   "source": [
    "# Read the CSV file into a DataFrame\n",
    "df = pd.read_csv(file_path)\n",
    "\n",
    "# Count the occurrences of each district number\n",
    "district_counts = df['District'].value_counts()\n",
    "\n",
    "# Display the district counts\n",
    "print(district_counts)"
   ]
  },
  {
   "cell_type": "code",
   "execution_count": 9,
   "metadata": {},
   "outputs": [],
   "source": [
    "output_file_path = 'analysis/mostDangerousDistricts2022.csv'  # Replace with the desired output file path\n",
    "\n",
    "# Read the CSV file into a DataFrame\n",
    "df = pd.read_csv(file_path)\n",
    "\n",
    "# Count the occurrences of each district number\n",
    "district_counts = df['District'].value_counts().reset_index()\n",
    "\n",
    "# Rename the columns\n",
    "district_counts.columns = ['District', 'Count']\n",
    "\n",
    "# Save the district counts to a CSV file\n",
    "district_counts.to_csv(output_file_path, index=False)"
   ]
  },
  {
   "cell_type": "code",
   "execution_count": 11,
   "metadata": {},
   "outputs": [
    {
     "name": "stdout",
     "output_type": "stream",
     "text": [
      "Highest recorded crime in 2015.csv: District 11.0\n",
      "Highest recorded crime in 2016.csv: District 11.0\n",
      "Highest recorded crime in 2017.csv: District 11.0\n",
      "Highest recorded crime in 2018.csv: District 11.0\n",
      "Highest recorded crime in 2019.csv: District 11.0\n",
      "Highest recorded crime in 2020.csv: District 11.0\n",
      "Highest recorded crime in 2021.csv: District 11.0\n",
      "Highest recorded crime in 2022.csv: District 8.0\n",
      "Highest recorded crime in 2023.csv: District 8.0\n"
     ]
    }
   ],
   "source": [
    "import os\n",
    "import pandas as pd\n",
    "\n",
    "folder_path = 'Resources'  # Replace with the actual folder path\n",
    "\n",
    "# Get a list of all files in the folder\n",
    "file_list = os.listdir(folder_path)\n",
    "\n",
    "# Iterate through each file\n",
    "for file_name in file_list:\n",
    "    file_path = os.path.join(folder_path, file_name)\n",
    "    \n",
    "    # Read the CSV file into a DataFrame\n",
    "    df = pd.read_csv(file_path)\n",
    "    \n",
    "    # Count the occurrences of each district number\n",
    "    district_counts = df['District'].value_counts()\n",
    "    \n",
    "    # Get the highest counted district\n",
    "    highest_count_district = district_counts.idxmax()\n",
    "    \n",
    "    # Print the result\n",
    "    print(f\"Highest recorded crime in {file_name}: District {highest_count_district}\")\n"
   ]
  },
  {
   "cell_type": "code",
   "execution_count": 13,
   "metadata": {},
   "outputs": [
    {
     "name": "stdout",
     "output_type": "stream",
     "text": [
      "Lowest recorded crime in 2015.csv: District 31.0\n",
      "Lowest recorded crime in 2016.csv: District 31.0\n",
      "Lowest recorded crime in 2017.csv: District 31.0\n",
      "Lowest recorded crime in 2018.csv: District 31.0\n",
      "Lowest recorded crime in 2019.csv: District 31.0\n",
      "Lowest recorded crime in 2020.csv: District 31.0\n",
      "Lowest recorded crime in 2021.csv: District 31.0\n",
      "Lowest recorded crime in 2022.csv: District 31.0\n",
      "Lowest recorded crime in 2023.csv: District 31.0\n"
     ]
    }
   ],
   "source": [
    "for file_name in file_list:\n",
    "    file_path = os.path.join(folder_path, file_name)\n",
    "    \n",
    "    # Read the CSV file into a DataFrame\n",
    "    df = pd.read_csv(file_path)\n",
    "    \n",
    "    # Count the occurrences of each district number\n",
    "    district_counts = df['District'].value_counts()\n",
    "    \n",
    "    # Get the lowest counted district\n",
    "    lowest_count_district = district_counts.idxmin()\n",
    "    \n",
    "    # Print the result\n",
    "    print(f\"Lowest recorded crime in {file_name}: District {lowest_count_district}\")"
   ]
  },
  {
   "cell_type": "code",
   "execution_count": 16,
   "metadata": {},
   "outputs": [],
   "source": [
    "folder_path = 'Resources'  # Replace with the actual folder path\n",
    "\n",
    "# Get a list of all files in the folder\n",
    "file_list = os.listdir(folder_path)\n",
    "\n",
    "# Iterate through each file\n",
    "for file_name in file_list:\n",
    "    file_path = os.path.join(folder_path, file_name)\n",
    "    \n",
    "    # Read the CSV file into a DataFrame\n",
    "    df = pd.read_csv(file_path)\n",
    "    \n",
    "    # Remove rows with '31' in the District column\n",
    "    df = df[df['District'] != 31]\n",
    "    \n",
    "    # Save the modified DataFrame back to the file\n",
    "    df.to_csv(file_path, index=False)"
   ]
  },
  {
   "cell_type": "code",
   "execution_count": 17,
   "metadata": {},
   "outputs": [
    {
     "name": "stderr",
     "output_type": "stream",
     "text": [
      "C:\\Users\\Ya boi Saber\\AppData\\Local\\Temp\\ipykernel_29980\\1938301319.py:23: FutureWarning: The frame.append method is deprecated and will be removed from pandas in a future version. Use pandas.concat instead.\n",
      "  results_df = results_df.append({'Year': file_name, 'Lowest Crime District': lowest_count_district},\n",
      "C:\\Users\\Ya boi Saber\\AppData\\Local\\Temp\\ipykernel_29980\\1938301319.py:23: FutureWarning: The frame.append method is deprecated and will be removed from pandas in a future version. Use pandas.concat instead.\n",
      "  results_df = results_df.append({'Year': file_name, 'Lowest Crime District': lowest_count_district},\n",
      "C:\\Users\\Ya boi Saber\\AppData\\Local\\Temp\\ipykernel_29980\\1938301319.py:23: FutureWarning: The frame.append method is deprecated and will be removed from pandas in a future version. Use pandas.concat instead.\n",
      "  results_df = results_df.append({'Year': file_name, 'Lowest Crime District': lowest_count_district},\n",
      "C:\\Users\\Ya boi Saber\\AppData\\Local\\Temp\\ipykernel_29980\\1938301319.py:23: FutureWarning: The frame.append method is deprecated and will be removed from pandas in a future version. Use pandas.concat instead.\n",
      "  results_df = results_df.append({'Year': file_name, 'Lowest Crime District': lowest_count_district},\n",
      "C:\\Users\\Ya boi Saber\\AppData\\Local\\Temp\\ipykernel_29980\\1938301319.py:23: FutureWarning: The frame.append method is deprecated and will be removed from pandas in a future version. Use pandas.concat instead.\n",
      "  results_df = results_df.append({'Year': file_name, 'Lowest Crime District': lowest_count_district},\n",
      "C:\\Users\\Ya boi Saber\\AppData\\Local\\Temp\\ipykernel_29980\\1938301319.py:23: FutureWarning: The frame.append method is deprecated and will be removed from pandas in a future version. Use pandas.concat instead.\n",
      "  results_df = results_df.append({'Year': file_name, 'Lowest Crime District': lowest_count_district},\n",
      "C:\\Users\\Ya boi Saber\\AppData\\Local\\Temp\\ipykernel_29980\\1938301319.py:23: FutureWarning: The frame.append method is deprecated and will be removed from pandas in a future version. Use pandas.concat instead.\n",
      "  results_df = results_df.append({'Year': file_name, 'Lowest Crime District': lowest_count_district},\n",
      "C:\\Users\\Ya boi Saber\\AppData\\Local\\Temp\\ipykernel_29980\\1938301319.py:23: FutureWarning: The frame.append method is deprecated and will be removed from pandas in a future version. Use pandas.concat instead.\n",
      "  results_df = results_df.append({'Year': file_name, 'Lowest Crime District': lowest_count_district},\n",
      "C:\\Users\\Ya boi Saber\\AppData\\Local\\Temp\\ipykernel_29980\\1938301319.py:23: FutureWarning: The frame.append method is deprecated and will be removed from pandas in a future version. Use pandas.concat instead.\n",
      "  results_df = results_df.append({'Year': file_name, 'Lowest Crime District': lowest_count_district},\n"
     ]
    }
   ],
   "source": [
    "output_file_path = 'analysis/ofAllTime/safestDistricts15to23.csv'\n",
    "\n",
    "# Get a list of all files in the folder\n",
    "file_list = os.listdir(folder_path)\n",
    "\n",
    "# Create an empty DataFrame to store the results\n",
    "results_df = pd.DataFrame(columns=['Year', 'Lowest Crime District'])\n",
    "\n",
    "# Iterate through each file\n",
    "for file_name in file_list:\n",
    "    file_path = os.path.join(folder_path, file_name)\n",
    "    \n",
    "    # Read the CSV file into a DataFrame\n",
    "    df = pd.read_csv(file_path)\n",
    "    \n",
    "    # Count the occurrences of each district number\n",
    "    district_counts = df['District'].value_counts()\n",
    "    \n",
    "    # Get the lowest counted district\n",
    "    lowest_count_district = district_counts.idxmin()\n",
    "    \n",
    "    # Append the results to the DataFrame\n",
    "    results_df = results_df.append({'Year': file_name, 'Lowest Crime District': lowest_count_district},\n",
    "                                   ignore_index=True)\n",
    "\n",
    "# Save the results to a CSV file\n",
    "results_df.to_csv(output_file_path, index=False)\n"
   ]
  },
  {
   "cell_type": "code",
   "execution_count": 14,
   "metadata": {},
   "outputs": [],
   "source": [
    "output_file_path = 'analysis/highest_arrests_per_district.csv'  # Replace with the desired output file path\n",
    "\n",
    "# Read the CSV file into a DataFrame\n",
    "df = pd.read_csv(file_path)\n",
    "\n",
    "# Filter the DataFrame to keep only rows where Arrest is TRUE\n",
    "arrest_df = df[df['Arrest'] == True]\n",
    "\n",
    "# Group by District and find the maximum number of arrests\n",
    "highest_arrests_per_district = arrest_df.groupby('District')['Arrest'].sum().reset_index()\n",
    "\n",
    "# Sort the DataFrame by the number of arrests in descending order\n",
    "highest_arrests_per_district = highest_arrests_per_district.sort_values(by='Arrest', ascending=False)\n",
    "\n",
    "# Save the results to a CSV file\n",
    "highest_arrests_per_district.to_csv(output_file_path, index=False)\n"
   ]
  }
 ],
 "metadata": {
  "kernelspec": {
   "display_name": "base",
   "language": "python",
   "name": "python3"
  },
  "language_info": {
   "codemirror_mode": {
    "name": "ipython",
    "version": 3
   },
   "file_extension": ".py",
   "mimetype": "text/x-python",
   "name": "python",
   "nbconvert_exporter": "python",
   "pygments_lexer": "ipython3",
   "version": "3.10.9"
  },
  "orig_nbformat": 4
 },
 "nbformat": 4,
 "nbformat_minor": 2
}
